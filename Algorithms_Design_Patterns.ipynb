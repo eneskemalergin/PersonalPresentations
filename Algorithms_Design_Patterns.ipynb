{
 "cells": [
  {
   "cell_type": "markdown",
   "metadata": {
    "slideshow": {
     "slide_type": "slide"
    }
   },
   "source": [
    "# Algorithm Design Techniques\n",
    "\n",
    "1. How are the different approaches solves the same problems?\n",
    "1. How are the different problems solved by the same approaches?\n",
    "\n",
    "> Presented by : Enes Kemal Ergin"
   ]
  },
  {
   "cell_type": "markdown",
   "metadata": {
    "slideshow": {
     "slide_type": "subslide"
    }
   },
   "source": [
    "Over the centuries, people who solve their problems with algorithms realized that problems were vary but the approaches/ideas were similar. Then they saw the pattern and they came up with some techniques to design algorithms and put them in types.\n",
    "\n",
    "When I introduce these techniques, I will stick with one example, which will be finding a person who you don't know in a library. "
   ]
  },
  {
   "cell_type": "markdown",
   "metadata": {
    "slideshow": {
     "slide_type": "slide"
    }
   },
   "source": [
    "## 1. Brute Force \n",
    "\n",
    "- Brute force or Exhaustive Search, examines every possible alternative.\n",
    "- It is like you are asking every person in the library\n",
    "- You will find it eventualy but it may be too late.\n",
    "- Easiest type to design and understand.\n",
    "- In some cases they work well, in bioinformatics\n",
    "- Mostly too slow.\n",
    "- Even for the small sets, try to avoid this type\n"
   ]
  },
  {
   "cell_type": "markdown",
   "metadata": {
    "slideshow": {
     "slide_type": "slide"
    }
   },
   "source": [
    "## 2. Branch-and-Bound \n",
    "\n",
    "- Branch-and-Bound or Pruning\n",
    "- Technique when you omit large number of alternatives in Brute Force Algorithm\n",
    "- It is like you know the gender of the person you automatically "
   ]
  },
  {
   "cell_type": "markdown",
   "metadata": {
    "slideshow": {
     "slide_type": "slide"
    }
   },
   "source": [
    "## 3. Greedy Algorithms\n",
    "\n",
    "- Most algorithms use iterative procedure, and greedy,\n",
    "- Chooses the “most attractive” alternative at each iteration\n",
    "- It is like you are blind and you are walking through the sound of that person in library (I am not even sure if talking in library is appropriate) ;)\n",
    "- This type is very direct if there is something like a wall in between you and your person, that may prevent you to reach him/her\n",
    "- When problem gets more realistic, the chance of failure using greedy will increase."
   ]
  },
  {
   "cell_type": "markdown",
   "metadata": {
    "slideshow": {
     "slide_type": "slide"
    }
   },
   "source": [
    "## 4. Dynamic Programming\n",
    "\n",
    "- Organizes the computations to avoid re-computing the same values that you already know\n",
    "- This type is not applicable to our example\n",
    "- This type is worth having a presentation for itself."
   ]
  },
  {
   "cell_type": "markdown",
   "metadata": {
    "slideshow": {
     "slide_type": "slide"
    }
   },
   "source": [
    "## 5. Divide-and-Conquer \n",
    "\n",
    "- Divide big problem into smaller sub-problems\n",
    "- Solve sub-problems individualy and unite the results the get a bigger picture\n",
    "- Critical step is to combine results to make one for big problem"
   ]
  },
  {
   "cell_type": "markdown",
   "metadata": {
    "slideshow": {
     "slide_type": "slide"
    }
   },
   "source": [
    "## 6. Machine Learning\n",
    "\n",
    "- This approach is all about statistics and data \n",
    "- Often base their strategies on the computational analysis of previously collected data.\n",
    "- In our example we get the information of where usually our target sit and stick around then we might find him/her\n",
    "- Machine Learning methods are getting very popular"
   ]
  },
  {
   "cell_type": "markdown",
   "metadata": {
    "slideshow": {
     "slide_type": "slide"
    }
   },
   "source": [
    "## 7. Randomized \n",
    "\n",
    "\n",
    "- Randomize the starting point "
   ]
  }
 ],
 "metadata": {
  "celltoolbar": "Slideshow",
  "kernelspec": {
   "display_name": "Python 2",
   "language": "python",
   "name": "python2"
  },
  "language_info": {
   "codemirror_mode": {
    "name": "ipython",
    "version": 2
   },
   "file_extension": ".py",
   "mimetype": "text/x-python",
   "name": "python",
   "nbconvert_exporter": "python",
   "pygments_lexer": "ipython2",
   "version": "2.7.9"
  }
 },
 "nbformat": 4,
 "nbformat_minor": 0
}

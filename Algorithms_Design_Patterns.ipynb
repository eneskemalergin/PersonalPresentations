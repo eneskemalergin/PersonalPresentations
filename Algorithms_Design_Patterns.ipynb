{
 "cells": [
  {
   "cell_type": "code",
   "execution_count": null,
   "metadata": {
    "collapsed": true
   },
   "outputs": [],
   "source": []
  },
  {
   "cell_type": "markdown",
   "metadata": {
    "slideshow": {
     "slide_type": "slide"
    }
   },
   "source": [
    "# Algorithm Design Techniques\n",
    "\n",
    "1. How are the different approaches solves the same problems?\n",
    "1. How are the different problems solved by the same approaches?\n",
    "\n",
    "> Presented by : Nadide Pasali"
   ]
  },
  {
   "cell_type": "markdown",
   "metadata": {
    "slideshow": {
     "slide_type": "subslide"
    }
   },
   "source": [
    "Over the centuries, people who solve their problems with algorithms realized that problems were vary but the approaches/ideas were similar. Then they saw the pattern and they came up with some techniques to design algorithms and put them in types.\n"
   ]
  },
  {
   "cell_type": "markdown",
   "metadata": {
    "slideshow": {
     "slide_type": "slide"
    }
   },
   "source": [
    "## 1. Brute Force \n",
    "\n",
    "- Brute force or Exhaustive Search, examines every possible alternative.\n",
    "- It is like you are asking every person in the library\n",
    "- You will find it eventualy but it may be too late.\n",
    "- Easiest type to design and understand.\n",
    "- In some cases they work well, in bioinformatics\n",
    "- Mostly too slow.\n",
    "- Even for the small sets, try to avoid this type\n"
   ]
  },
  {
   "cell_type": "markdown",
   "metadata": {
    "slideshow": {
     "slide_type": "slide"
    }
   },
   "source": [
    "## 2. Branch-and-Bound \n",
    "\n",
    "- Branch-and-Bound or Pruning\n",
    "- Technique when you omit large number of alternatives in Brute Force Algorithm\n",
    "- It is like you know the gender of the person you automatically "
   ]
  },
  {
   "cell_type": "markdown",
   "metadata": {
    "slideshow": {
     "slide_type": "slide"
    }
   },
   "source": [
    "## 3. Greedy Algorithms\n",
    "\n",
    "- Most algorithms use iterative procedure, and greedy,\n",
    "- Chooses the “most attractive” alternative at each iteration\n",
    "- It is like you are blind and you are walking through the sound of that person in library (I am not even sure if talking in library is appropriate) ;)\n",
    "- This type is very direct if there is something like a wall in between you and your person, that may prevent you to reach him/her\n",
    "- When problem gets more realistic, the chance of failure using greedy will increase."
   ]
  },
  {
   "cell_type": "code",
   "execution_count": 33,
   "metadata": {
    "collapsed": false,
    "slideshow": {
     "slide_type": "subslide"
    }
   },
   "outputs": [
    {
     "name": "stdout",
     "output_type": "stream",
     "text": [
      "([(0, 1.0), (1, 1.0), (2, 1.0)], 28.0)\n"
     ]
    }
   ],
   "source": [
    "def KnapsackFrac(v, w, W):\n",
    "    order = bubblesortByRatio(v, w)            # sort by v/w (bubblesort below)\n",
    "    weight = 0.0                               \n",
    "    value = 0.0                                \n",
    "    \n",
    "    knapsack = []                           \n",
    "    n = len(v)\n",
    "    i = 0                                      # order[i] is the index in v and w of the item \n",
    "    while ((weight < W) and (i < n)):\n",
    "        if (weight + w[order[i]] <= W):        \n",
    "            knapsack.append((order[i], 1.0))   \n",
    "            weight = weight + w[order[i]]\n",
    "            value = value + v[order[i]]\n",
    "        else:\n",
    "            fraction = (W - weight) / w[order[i]]     # otherwise, calculate the fraction \n",
    "            knapsack.append((order[i], fraction))      # and add this fraction\n",
    "            weight = W\n",
    "            value = value + v[order[i]] * fraction\n",
    "        i+= 1\n",
    "    return (knapsack, value)\n",
    "  \n",
    "\n",
    "# sort in descending order by ratio of v[i] to w[i]\n",
    "# keep the order in another array \"order\"\n",
    "def bubblesortByRatio(v, w):\n",
    "    n = len(v)\n",
    "    order = range(n)\n",
    "    for i in range(n - 1, 0, -1):\n",
    "        for j in range(0, i):           \n",
    "            if ((1.0 * v[order[j]]) / w[order[j]]) < ((1.0 * v[order[j+1]]) / w[order[j+1]]):\n",
    "                temp = order[j]\n",
    "                order[j] = order[j+1]\n",
    "                order[j+1] = temp\n",
    "    return order\n",
    "\n",
    "v = [6,10,12]\n",
    "w = [1,2,3]\n",
    "print KnapsackFrac (v,w,50)"
   ]
  },
  {
   "cell_type": "markdown",
   "metadata": {
    "slideshow": {
     "slide_type": "slide"
    }
   },
   "source": [
    "## 4. Dynamic Programming\n",
    "\n",
    "- Organizes the computations to avoid re-computing the same values that you already know\n",
    "- This type is not applicable to our example\n",
    "- This type is worth having a presentation for itself."
   ]
  },
  {
   "cell_type": "code",
   "execution_count": 29,
   "metadata": {
    "collapsed": false,
    "slideshow": {
     "slide_type": "subslide"
    }
   },
   "outputs": [
    {
     "name": "stdout",
     "output_type": "stream",
     "text": [
      "([0, 6, 10, 16, 18, 22], 22)\n"
     ]
    }
   ],
   "source": [
    "def Knapsack01 (v, w, W):\n",
    "    n = len(v)\n",
    "    dp = [0]*(W+1)  \n",
    "\n",
    "    for i in range(n):\n",
    "        for j in range(W, w[i]-1, -1):\n",
    "            if (dp[j] < dp[j-w[i]] + v[i]):\n",
    "                dp[j] = dp[j-w[i]] + v[i]\n",
    "    return (dp, dp[W])\n",
    "    \n",
    "v = [6,10,12]\n",
    "w = [1,2,3]\n",
    "print Knapsack01 (v, w, 5)"
   ]
  },
  {
   "cell_type": "code",
   "execution_count": 60,
   "metadata": {
    "collapsed": false,
    "scrolled": true
   },
   "outputs": [
    {
     "name": "stdout",
     "output_type": "stream",
     "text": [
      "[[0, 0, 0, 0, 0, 0, 0], [0, 0, 0, 0, 0, 0, 0], [0, 0, 0, 0, 0, 0, 0], [0, 0, 0, 0, 0, 0, 0], [0, 0, 0, 0, 0, 0, 0], [0, 0, 0, 0, 0, 0, 0], [0, 0, 0, 0, 0, 0, 0]]\n",
      "[[0, 2, 2, 0, 0, 0, 0], [0, 2, 2, 0, 0, 0, 0], [0, 2, 2, 0, 0, 0, 0], [0, 2, 2, 0, 0, 0, 0], [0, 2, 2, 0, 0, 0, 0], [0, 2, 2, 0, 0, 0, 0], [0, 2, 2, 0, 0, 0, 0]]\n",
      "[0, 2, 5, 2, 1, 4, 4]\n",
      "[0, 2, 5, 2, 1, 4, 4]\n",
      "[0, 2, 5, 2, 1, 4, 4]\n",
      "[0, 2, 5, 2, 1, 4, 4]\n",
      "[0, 2, 5, 2, 1, 4, 4]\n",
      "[0, 2, 5, 2, 1, 4, 4]\n",
      "[0, 2, 5, 2, 1, 4, 4]\n",
      "4\n"
     ]
    }
   ],
   "source": [
    "import sys\n",
    "\n",
    "def ShortestPath (start, goal):\n",
    "    edge = len(graph)\n",
    "    dp = [0]*(node+1)\n",
    "    used = [0]*(node+1)\n",
    "    \n",
    "    \n",
    "    used[start] = 1\n",
    "    for i in range(edge-1):\n",
    "        for j in range(1,node+1):\n",
    "            if (graph[start][j] and not used[j]):\n",
    "                if (not dp[j] or dp[j]>dp[start]+graph[start][j]):\n",
    "                    dp[j] = dp[start]+graph[start][j]\n",
    "        \n",
    "        min = sys.maxsize \n",
    "        for j in range(node+1):\n",
    "            if (dp[j] and not used[j]):\n",
    "                if (dp[j] < min):\n",
    "                    min = dp[j]\n",
    "                    start = j\n",
    "        used[start] = 1\n",
    "\n",
    "    return dp[goal]\n",
    "\n",
    "\n",
    "node = 6\n",
    "edge = 7\n",
    "graph = [[0]*(node+1)]*(node+1)\n",
    "print graph\n",
    "\n",
    "graph[1][2] = 2\n",
    "graph[2][1] = 2\n",
    "print graph\n",
    "graph[1][5] = graph[5][1] = 2\n",
    "graph[2][3] = graph[3][2] = 3\n",
    "graph[2][4] = graph[4][2] = 5\n",
    "graph[3][6] = graph[6][3] = 2\n",
    "graph[4][6] = graph[6][4] = 1\n",
    "graph[5][6] = graph[6][5] = 4\n",
    "\n",
    "\n",
    "for i in graph:\n",
    "    print i\n",
    "    \n",
    "print ShortestPath(1,6)"
   ]
  },
  {
   "cell_type": "markdown",
   "metadata": {
    "slideshow": {
     "slide_type": "slide"
    }
   },
   "source": [
    "## 5. Divide-and-Conquer \n",
    "\n",
    "- Divide big problem into smaller sub-problems\n",
    "- Solve sub-problems individualy and unite the results the get a bigger picture\n",
    "- Critical step is to combine results to make one for big problem"
   ]
  },
  {
   "cell_type": "markdown",
   "metadata": {
    "slideshow": {
     "slide_type": "slide"
    }
   },
   "source": [
    "## 6. Machine Learning\n",
    "\n",
    "- This approach is all about statistics and data \n",
    "- Often base their strategies on the computational analysis of previously collected data.\n",
    "- In our example we get the information of where usually our target sit and stick around then we might find him/her\n",
    "- Machine Learning methods are getting very popular"
   ]
  },
  {
   "cell_type": "markdown",
   "metadata": {
    "slideshow": {
     "slide_type": "slide"
    }
   },
   "source": [
    "## 7. Randomized \n",
    "\n",
    "\n",
    "- Randomize the starting point "
   ]
  }
 ],
 "metadata": {
  "celltoolbar": "Slideshow",
  "kernelspec": {
   "display_name": "Python 2",
   "language": "python",
   "name": "python2"
  },
  "language_info": {
   "codemirror_mode": {
    "name": "ipython",
    "version": 2
   },
   "file_extension": ".py",
   "mimetype": "text/x-python",
   "name": "python",
   "nbconvert_exporter": "python",
   "pygments_lexer": "ipython2",
   "version": "2.7.6"
  }
 },
 "nbformat": 4,
 "nbformat_minor": 0
}

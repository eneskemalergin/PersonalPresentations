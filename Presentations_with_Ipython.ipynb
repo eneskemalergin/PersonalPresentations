{
 "cells": [
  {
   "cell_type": "markdown",
   "metadata": {
    "slideshow": {
     "slide_type": "slide"
    }
   },
   "source": [
    "# Presentations with IPython\n",
    "\n",
    "> Presented By Enes Kemal Ergin"
   ]
  },
  {
   "cell_type": "markdown",
   "metadata": {
    "slideshow": {
     "slide_type": "subslide"
    }
   },
   "source": [
    "#### About Me\n",
    "\n",
    "- [Personal Blog](http://eneskemalergin.github.io/)\n",
    "- [Github](https://github.com/eneskemalergin)\n",
    "- [Email](eneskemalergin@gmail.com)"
   ]
  },
  {
   "cell_type": "markdown",
   "metadata": {
    "slideshow": {
     "slide_type": "slide"
    }
   },
   "source": [
    "Outline \n",
    "---\n",
    "\n",
    "1. Installing IPython\n",
    "2. Making the Presentation\n",
    "3. Converting to Presentation Locally\n",
    "4. Extra: How am I putting it into my blog"
   ]
  },
  {
   "cell_type": "markdown",
   "metadata": {
    "slideshow": {
     "slide_type": "slide"
    }
   },
   "source": [
    "1. Installing IPython\n",
    "---\n",
    "\n",
    "> We are going to install Jupyter instead of IPython, because Jupyter is the version 3.0 of IPython. "
   ]
  },
  {
   "cell_type": "markdown",
   "metadata": {
    "slideshow": {
     "slide_type": "subslide"
    }
   },
   "source": [
    "### __For Linux Users:__\n",
    "\n",
    "```\n",
    "sudo apt-get install python-pip\n",
    "pip install jupyter\n",
    "```"
   ]
  },
  {
   "cell_type": "markdown",
   "metadata": {
    "slideshow": {
     "slide_type": "subslide"
    }
   },
   "source": [
    "### __For MacOS Users:__\n",
    "\n",
    "```\n",
    "sudo easy_install pip\n",
    "pip install jupyter\n",
    "```"
   ]
  },
  {
   "cell_type": "markdown",
   "metadata": {
    "slideshow": {
     "slide_type": "subslide"
    }
   },
   "source": [
    "### __For Windows Users:__\n",
    "\n",
    "Download the latest version of the Python either 2.7.9/newer, or 3.4/newer. They come with pip install already.\n",
    "\n",
    "```\n",
    "pip install jupyter\n",
    "\n",
    "# OR\n",
    "\n",
    "pip3 install jupyter\n",
    "```"
   ]
  },
  {
   "cell_type": "markdown",
   "metadata": {
    "slideshow": {
     "slide_type": "slide"
    }
   },
   "source": [
    "2. Making the Presentation\n",
    "---\n",
    "\n",
    "\n",
    "First thing to do is to open a IPython/jupyter notebook via terminal\n",
    "\n",
    "```\n",
    "jupyter notebook\n",
    "```\n",
    "\n",
    "> Careful that it will open the jupyter console at the current directory of the terminal.\n",
    "\n",
    "\n"
   ]
  },
  {
   "cell_type": "markdown",
   "metadata": {
    "slideshow": {
     "slide_type": "subslide"
    }
   },
   "source": [
    "Click the _```new```_ button and choose _```Python 2```_ (or 3 according to your choice of version). \n",
    "\n",
    "![New Notebook](images/newNotebook.png)"
   ]
  },
  {
   "cell_type": "markdown",
   "metadata": {
    "slideshow": {
     "slide_type": "subslide"
    }
   },
   "source": [
    "Then you will see an empty notebook like this:\n",
    "    \n",
    "![Empty Notebook](images/EmptyNotebook.png)\n",
    "\n",
    "\n",
    "- Change the ```Cell Toolbar``` to __Slideshow__\n",
    "- End change the cell type which is next to ```Cell Toolbar``` to __Markdown__.\n",
    "- If you want to include codes and runned version of the code you may leave the type __code__"
   ]
  },
  {
   "cell_type": "code",
   "execution_count": 4,
   "metadata": {
    "collapsed": false,
    "slideshow": {
     "slide_type": "subslide"
    }
   },
   "outputs": [
    {
     "data": {
      "image/png": "[encoded data removed]",
      "text/plain": [
       "<matplotlib.figure.Figure at 0x7f66c3c26f50>"
      ]
     },
     "metadata": {},
     "output_type": "display_data"
    },
    {
     "name": "stdout",
     "output_type": "stream",
     "text": [
      "None\n"
     ]
    }
   ],
   "source": [
    "# Here is how you can put Code inside the Presentation using Jupyter\n",
    "\n",
    "\"\"\"\n",
    "This example demonstrates the \"bmh\" style, which is the design used in the\n",
    "Bayesian Methods for Hackers online book.\n",
    "\"\"\"\n",
    "%matplotlib inline\n",
    "\n",
    "from numpy.random import beta\n",
    "import matplotlib.pyplot as plt\n",
    "\n",
    "plt.style.use('bmh')\n",
    "\n",
    "\n",
    "def plot_beta_hist(a, b):\n",
    "    plt.hist(beta(a, b, size=10000), histtype=\"stepfilled\",\n",
    "             bins=25, alpha=0.8, normed=True)\n",
    "    return\n",
    "\n",
    "plot_beta_hist(10, 10)\n",
    "plot_beta_hist(4, 12)\n",
    "plot_beta_hist(50, 12)\n",
    "plot_beta_hist(6, 55)\n",
    "\n",
    "print plt.show()"
   ]
  },
  {
   "cell_type": "markdown",
   "metadata": {
    "slideshow": {
     "slide_type": "slide"
    }
   },
   "source": [
    "### How to Use Slide Type\n",
    "\n",
    "There are 5 types of slide in jupyter available.\n",
    "\n",
    "This the main type called  ```slide```. They goes horizontally.\n",
    "\n"
   ]
  },
  {
   "cell_type": "markdown",
   "metadata": {
    "slideshow": {
     "slide_type": "subslide"
    }
   },
   "source": [
    "#### This slide type is called ```Sub-Slide```\n",
    "\n",
    "They goes vertically to the main cell. "
   ]
  },
  {
   "cell_type": "markdown",
   "metadata": {
    "slideshow": {
     "slide_type": "subslide"
    }
   },
   "source": [
    "There are other types:\n",
    "\n",
    "- __Fragment__ comes one another in a slide\n",
    "- __Skip__ as the names refers, skips whatever inside the cell\n",
    "- __Notes__ are the slides that only available to the presenter when you click ```s``` during the presentation"
   ]
  },
  {
   "cell_type": "markdown",
   "metadata": {
    "slideshow": {
     "slide_type": "slide"
    }
   },
   "source": [
    "3. Converting to Presentation Locally\n",
    "---\n",
    "\n",
    "```\n",
    "jupyter nbconvert <name.ipynb> --to slides --post serve\n",
    "```\n",
    "\n",
    "It will create a presentation in Jupyter defined default."
   ]
  },
  {
   "cell_type": "markdown",
   "metadata": {
    "slideshow": {
     "slide_type": "slide"
    }
   },
   "source": [
    "4. Extra: How am I putting it into my blog\n",
    "---\n",
    "\n",
    "This is very detailed...\n",
    "\n",
    "As I described above everything is very user friendly with IPython, but it only supports the local hosts for now.\n",
    "\n",
    "To be able to add presentation to my blog and many others' blog you should use ```Markdown``` files. To be able to convert it:\n",
    "\n",
    "```\n",
    "jupyter nbconvert <name.ipynb> --to markdown\n",
    "```\n",
    "\n",
    "\n",
    "\n"
   ]
  },
  {
   "cell_type": "markdown",
   "metadata": {
    "slideshow": {
     "slide_type": "subslide"
    }
   },
   "source": [
    "\n",
    "Then we got the notebook in markdown format, alright. Next step is to use some indetifiers to say the website this is a presentation:\n",
    "\n",
    "```\n",
    "---\n",
    "title: Example\n",
    "layout: presentation\n",
    "description: This is an example presentation.\n",
    "---\n",
    "```\n",
    "\n",
    "This is called a ```YAML``` format in ```Jekyll``` template. Also to be able to show the markdown is a presentation we should use other identifiers like:\n",
    "\n",
    "* `site.startslide` - mark the beginning of a slide\n",
    "* `site.endslide` - mark the end of a slide\n",
    "* `site.nextslide` - a short cut for `{{ site.endslide }}{{ site.startslide }}`.\n",
    "* `site.startvertical` - start a vertical slide group\n",
    "* `site.endvertical` - end a vertical slide group"
   ]
  },
  {
   "cell_type": "markdown",
   "metadata": {
    "slideshow": {
     "slide_type": "slide"
    }
   },
   "source": [
    "Questions? And Answers (Maybe) \n",
    "---"
   ]
  }
 ],
 "metadata": {
  "celltoolbar": "Slideshow",
  "kernelspec": {
   "display_name": "Python 2",
   "language": "python",
   "name": "python2"
  },
  "language_info": {
   "codemirror_mode": {
    "name": "ipython",
    "version": 2
   },
   "file_extension": ".py",
   "mimetype": "text/x-python",
   "name": "python",
   "nbconvert_exporter": "python",
   "pygments_lexer": "ipython2",
   "version": "2.7.10"
  }
 },
 "nbformat": 4,
 "nbformat_minor": 0
}
